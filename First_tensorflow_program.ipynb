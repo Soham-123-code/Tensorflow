{
  "nbformat": 4,
  "nbformat_minor": 0,
  "metadata": {
    "colab": {
      "name": "First tensorflow program.ipynb",
      "provenance": [],
      "authorship_tag": "ABX9TyMFemblbkFMmyD0U9WNVd4a",
      "include_colab_link": true
    },
    "kernelspec": {
      "name": "python3",
      "display_name": "Python 3"
    },
    "language_info": {
      "name": "python"
    }
  },
  "cells": [
    {
      "cell_type": "markdown",
      "metadata": {
        "id": "view-in-github",
        "colab_type": "text"
      },
      "source": [
        "<a href=\"https://colab.research.google.com/github/Soham-123-code/Tensorflow/blob/main/First_tensorflow_program.ipynb\" target=\"_parent\"><img src=\"https://colab.research.google.com/assets/colab-badge.svg\" alt=\"Open In Colab\"/></a>"
      ]
    },
    {
      "cell_type": "code",
      "execution_count": 23,
      "metadata": {
        "id": "E5ADri3bq3bs"
      },
      "outputs": [],
      "source": [
        "import tensorflow as tf\n",
        "import numpy as np\n",
        "import logging\n",
        "logger = tf.get_logger()\n",
        "logger.setLevel(logging.ERROR)\n"
      ]
    },
    {
      "cell_type": "code",
      "source": [
        "celsius_q = np.array([-40, -10, 0, 15, 22, 28, 38], dtype=float)\n",
        "fahrenheit_a = np.array([-40, 14, 32, 46, 59, 72, 100], dtype=float)\n",
        "\n",
        "for i,c in enumerate(celsius_q):\n",
        "  print(\"{} degrees in Celsius = {} in Fahrenheit\".format(c, fahrenheit_a[i]))"
      ],
      "metadata": {
        "colab": {
          "base_uri": "https://localhost:8080/"
        },
        "id": "o92nRKxorHKp",
        "outputId": "199f397b-be17-4e06-ac6a-f8d37d59abec"
      },
      "execution_count": 24,
      "outputs": [
        {
          "output_type": "stream",
          "name": "stdout",
          "text": [
            "-40.0 degrees in Celsius = -40.0 in Fahrenheit\n",
            "-10.0 degrees in Celsius = 14.0 in Fahrenheit\n",
            "0.0 degrees in Celsius = 32.0 in Fahrenheit\n",
            "15.0 degrees in Celsius = 46.0 in Fahrenheit\n",
            "22.0 degrees in Celsius = 59.0 in Fahrenheit\n",
            "28.0 degrees in Celsius = 72.0 in Fahrenheit\n",
            "38.0 degrees in Celsius = 100.0 in Fahrenheit\n"
          ]
        }
      ]
    },
    {
      "cell_type": "code",
      "source": [
        "l0 = tf.keras.layers.Dense(units=1, input_shape=[1])"
      ],
      "metadata": {
        "id": "Iaa1M9oXsMXi"
      },
      "execution_count": 25,
      "outputs": []
    },
    {
      "cell_type": "code",
      "source": [
        "model = tf.keras.Sequential([l0])"
      ],
      "metadata": {
        "id": "BT1AfQOUsYDa"
      },
      "execution_count": 26,
      "outputs": []
    },
    {
      "cell_type": "code",
      "source": [
        "model.compile(loss='mean_squared_error', optimizer=tf.keras.optimizers.Adam(0.1))"
      ],
      "metadata": {
        "id": "gPqGYAKasfnW"
      },
      "execution_count": 27,
      "outputs": []
    },
    {
      "cell_type": "code",
      "source": [
        "history = model.fit(celsius_q, fahrenheit_a, epochs=500, verbose=False)\n",
        "print(\"finished training the model\")"
      ],
      "metadata": {
        "colab": {
          "base_uri": "https://localhost:8080/"
        },
        "id": "YMgPYq4SsyWD",
        "outputId": "a962dad7-d8cc-4447-deec-2a5857b4f71e"
      },
      "execution_count": 28,
      "outputs": [
        {
          "output_type": "stream",
          "name": "stdout",
          "text": [
            "finished training the model\n"
          ]
        }
      ]
    },
    {
      "cell_type": "code",
      "source": [
        "import matplotlib.pyplot as plt\n",
        "plt.xlabel('Epoch Number')\n",
        "plt.ylabel(\"Loss Magnitude\")\n",
        "plt.plot (history.history['loss'])"
      ],
      "metadata": {
        "colab": {
          "base_uri": "https://localhost:8080/",
          "height": 296
        },
        "id": "vvwFStnTtE5Y",
        "outputId": "0a304cfe-0d60-4eba-a840-3535f26a6d31"
      },
      "execution_count": 29,
      "outputs": [
        {
          "output_type": "execute_result",
          "data": {
            "text/plain": [
              "[<matplotlib.lines.Line2D at 0x7fd1325f4590>]"
            ]
          },
          "metadata": {},
          "execution_count": 29
        },
        {
          "output_type": "display_data",
          "data": {
            "text/plain": [
              "<Figure size 432x288 with 1 Axes>"
            ],
            "image/png": "[encoded data removed]"
          },
          "metadata": {
            "needs_background": "light"
          }
        }
      ]
    },
    {
      "cell_type": "code",
      "source": [
        "print(model.predict([100.0]))"
      ],
      "metadata": {
        "colab": {
          "base_uri": "https://localhost:8080/"
        },
        "id": "2uUWKG2ttiT-",
        "outputId": "e0e5f94d-5880-4134-e403-fb26900b4451"
      },
      "execution_count": 30,
      "outputs": [
        {
          "output_type": "stream",
          "name": "stdout",
          "text": [
            "[[196.01418]]\n"
          ]
        }
      ]
    },
    {
      "cell_type": "code",
      "source": [
        "print(\"These are the layer variables: {}\". format(l0.get_weights()))"
      ],
      "metadata": {
        "colab": {
          "base_uri": "https://localhost:8080/"
        },
        "id": "ZyRaO_Gotru2",
        "outputId": "28d5ca5a-6e74-4b60-df0d-1d9c70722903"
      },
      "execution_count": 31,
      "outputs": [
        {
          "output_type": "stream",
          "name": "stdout",
          "text": [
            "These are the layer variables: [array([[1.696047]], dtype=float32), array([26.409485], dtype=float32)]\n"
          ]
        }
      ]
    },
    {
      "cell_type": "code",
      "source": [
        "l0 = tf.keras.layers.Dense(units=4, input_shape=[1])\n",
        "l1 = tf.keras.layers.Dense(units=4)\n",
        "l2 = tf.keras.layers.Dense(units=1)\n",
        "model = tf.keras.Sequential([l0,l1,l2])\n",
        "model.compile(loss='mean_squared_error', optimizer=tf.keras.optimizers.Adam(0.1))\n",
        "model.fit(celsius_q, fahrenheit_a, epochs=500, verbose=False)\n",
        "print(\"Finished training the model\")\n",
        "print(model.predict([100.0]))\n",
        "print(\"Model predicts that 100 degrees Celsius is : {} degrees Fahrenheit\".format(model.predict([100.0])))\n",
        "print(\"There are 10 variables: {}\".format(l0.get_weights()))\n",
        "print(\"There are 11 variables: {}\".format(l1.get_weights()))\n",
        "print(\"There are 12 variables: {}\".format(l2.get_weights()))"
      ],
      "metadata": {
        "colab": {
          "base_uri": "https://localhost:8080/"
        },
        "id": "c_Byx1WmE5N1",
        "outputId": "fe445e6b-d429-4cb9-9167-68b1567c97d2"
      },
      "execution_count": 36,
      "outputs": [
        {
          "output_type": "stream",
          "name": "stdout",
          "text": [
            "Finished training the model\n",
            "[[195.82394]]\n",
            "Model predicts that 100 degrees Celsius is : [[195.82394]] degrees Fahrenheit\n",
            "There are 10 variables: [array([[ 0.1582777 ,  0.914392  ,  0.15262379, -0.19990116]],\n",
            "      dtype=float32), array([-1.6633394,  3.6199615, -2.849434 , -2.8498857], dtype=float32)]\n",
            "There are 11 variables: [array([[ 0.09239046, -0.19304273,  0.05912703, -0.9332328 ],\n",
            "       [ 0.7245239 ,  0.73886037, -0.6683416 ,  0.51384044],\n",
            "       [-0.5126817 , -0.47330868,  0.61438775, -0.36975324],\n",
            "       [-0.5296373 , -0.44401354,  0.47525343, -0.33261856]],\n",
            "      dtype=float32), array([ 3.3248098,  3.602826 , -3.4601996,  2.371201 ], dtype=float32)]\n",
            "There are 12 variables: [array([[ 0.94622725],\n",
            "       [ 0.6149738 ],\n",
            "       [-0.72302985],\n",
            "       [ 0.51642406]], dtype=float32), array([3.1530588], dtype=float32)]\n"
          ]
        }
      ]
    },
    {
      "cell_type": "code",
      "source": [
        ""
      ],
      "metadata": {
        "id": "8Z4h0nlkGFsa"
      },
      "execution_count": null,
      "outputs": []
    }
  ]
}